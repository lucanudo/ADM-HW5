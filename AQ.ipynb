{
 "cells": [
  {
   "cell_type": "markdown",
   "metadata": {},
   "source": [
    "## Algorithmic Question (AQ)"
   ]
  },
  {
   "cell_type": "markdown",
   "metadata": {},
   "source": [
    "#### a) Write a pseudocode that describes the algorithm to find the cheapest route with at most k stops."
   ]
  },
  {
   "cell_type": "code",
   "execution_count": null,
   "metadata": {},
   "outputs": [],
   "source": [
    "procedure cheapest_flight_with_stops(n, flights, src, dst, k)\n",
    "Input: \n",
    "  n: number of cities (nodes)\n",
    "  flights: list of flights in the format [start, end, cost]\n",
    "  src: source city\n",
    "  dst: destination city\n",
    "  k: maximum number of stops allowed\n",
    "\n",
    "Output: \n",
    "  Minimum cost to travel from src to dst with at most k stops.\n",
    "  Return -1 if no such path exists.\n",
    "\n",
    "# Represent flights as a graph: adjacency list\n",
    "Create an empty graph `city_connections` of size n\n",
    "for each flight (start, end, cost) in flights:\n",
    "    Add the edge (end, cost) to city_connections[start]\n",
    "\n",
    "# Initialize the minimum costs for each city as infinity\n",
    "Create a dictionary `min_costs` initialized to infinity for all cities\n",
    "Set min_costs[src] = 0  # Starting city has zero cost\n",
    "\n",
    "# Layered search: tracking cities and their costs for up to k stops\n",
    "Create a dictionary `current_layer` initialized with {src: 0}  # cost to reach source is 0\n",
    "\n",
    "# Iterate through all stops from 0 to k\n",
    "for stop from 0 to k inclusive:\n",
    "    Create an empty dictionary `next_layer`\n",
    "    \n",
    "    # For each city in the current layer, check the possible flights to neighbors\n",
    "    for each city, cost_so_far in current_layer:\n",
    "        for each neighbor, price in city_connections[city]:\n",
    "            total_cost = cost_so_far + price  # Calculate the total cost to reach the neighbor\n",
    "            \n",
    "            # Check if we found a cheaper route to the neighbor\n",
    "            if total_cost < min_costs[neighbor]:\n",
    "                min_costs[neighbor] = total_cost\n",
    "                if neighbor not in next_layer or total_cost < next_layer[neighbor]:\n",
    "                    next_layer[neighbor] = total_cost\n",
    "\n",
    "    # Move to the next layer\n",
    "    current_layer = next_layer\n",
    "\n",
    "# After processing all layers, check the minimum cost to the destination city\n",
    "if min_costs[dst] is not infinity:\n",
    "    return min_costs[dst]  # Return the minimum cost to reach dst\n",
    "else:\n",
    "    return -1  # Return -1 if no valid path exists within the constraints\n"
   ]
  },
  {
   "cell_type": "markdown",
   "metadata": {},
   "source": [
    "#### b) Implement the algorithm in Python and simulate the given test cases."
   ]
  },
  {
   "cell_type": "code",
   "execution_count": 10,
   "metadata": {},
   "outputs": [],
   "source": [
    "def cheapest_flight_with_stops(n, flights, src, dst, k):\n",
    "    # Represent flights as a graph: adjacency list\n",
    "    city_connections = {i: [] for i in range(n)}\n",
    "    for start, end, cost in flights:\n",
    "        city_connections[start].append((end, cost))\n",
    "\n",
    "    # Initialize the costs with the source city at zero cost\n",
    "    min_costs = {i: float('inf') for i in range(n)}\n",
    "    min_costs[src] = 0  # Starting city has zero cost\n",
    "\n",
    "    # Layered search: track cost and stops\n",
    "    current_layer = {src: 0}  # Cities and their costs in the current layer\n",
    "\n",
    "    for stop in range(k + 1):  # Traverse up to k stops\n",
    "        next_layer = {}  # To build the next layer\n",
    "        for city, cost_so_far in current_layer.items():\n",
    "            for neighbor, price in city_connections[city]:\n",
    "                total_cost = cost_so_far + price\n",
    "                # Check if the cost is cheaper for the neighbor or update it\n",
    "                if total_cost < min_costs[neighbor]:\n",
    "                    min_costs[neighbor] = total_cost\n",
    "                    if neighbor not in next_layer or total_cost < next_layer[neighbor]:\n",
    "                        next_layer[neighbor] = total_cost\n",
    "        current_layer = next_layer\n",
    "\n",
    "    # After the final layer, check the destination city\n",
    "    return min_costs[dst] if min_costs[dst] != float('inf') else -1\n"
   ]
  },
  {
   "cell_type": "code",
   "execution_count": 11,
   "metadata": {},
   "outputs": [
    {
     "name": "stdout",
     "output_type": "stream",
     "text": [
      "Result: 700\n"
     ]
    }
   ],
   "source": [
    "# Test case\n",
    "n = 4\n",
    "flights = [[0, 1, 100], [1, 2, 100], [2, 0, 100], [1, 3, 600], [2, 3, 200]]\n",
    "src = 0\n",
    "dst = 3\n",
    "k = 1\n",
    "\n",
    "result = cheapest_flight_with_stops(n, flights, src, dst, k)\n",
    "print(\"Result:\", result) "
   ]
  },
  {
   "cell_type": "code",
   "execution_count": 12,
   "metadata": {},
   "outputs": [
    {
     "name": "stdout",
     "output_type": "stream",
     "text": [
      "Result: 200\n"
     ]
    }
   ],
   "source": [
    "n = 3  \n",
    "flights = [[0, 1, 100], [1, 2, 100], [0, 2, 500]]  \n",
    "src = 0  \n",
    "dst = 2  \n",
    "k = 1\n",
    "result = cheapest_flight_with_stops(n, flights, src, dst, k)\n",
    "print(\"Result:\", result) "
   ]
  },
  {
   "cell_type": "code",
   "execution_count": 13,
   "metadata": {},
   "outputs": [
    {
     "name": "stdout",
     "output_type": "stream",
     "text": [
      "Result: 500\n"
     ]
    }
   ],
   "source": [
    "n = 3  \n",
    "flights = [[0, 1, 100], [1, 2, 100], [0, 2, 500]]  \n",
    "src = 0  \n",
    "dst = 2  \n",
    "k = 0  \n",
    "\n",
    "result = cheapest_flight_with_stops(n, flights, src, dst, k)\n",
    "print(\"Result:\", result) "
   ]
  },
  {
   "cell_type": "code",
   "execution_count": 14,
   "metadata": {},
   "outputs": [
    {
     "name": "stdout",
     "output_type": "stream",
     "text": [
      "Result: 400\n"
     ]
    }
   ],
   "source": [
    "n = 4  \n",
    "flights = [[0, 1, 100], [0, 2, 200], [1, 3, 300], [2, 3, 300]]  \n",
    "src = 0  \n",
    "dst = 3  \n",
    "k = 2  \n",
    "\n",
    "result = cheapest_flight_with_stops(n, flights, src, dst, k)\n",
    "print(\"Result:\", result) "
   ]
  },
  {
   "cell_type": "code",
   "execution_count": 15,
   "metadata": {},
   "outputs": [
    {
     "name": "stdout",
     "output_type": "stream",
     "text": [
      "Result: 400\n"
     ]
    }
   ],
   "source": [
    "n = 4  \n",
    "flights = [[0, 1, 100], [0, 2, 200], [1, 3, 300], [2, 3, 200]]  \n",
    "src = 0  \n",
    "dst = 3  \n",
    "k = 2 \n",
    "result = cheapest_flight_with_stops(n, flights, src, dst, k)\n",
    "print(\"Result:\", result) "
   ]
  },
  {
   "cell_type": "markdown",
   "metadata": {},
   "source": [
    "#### c) Analyze the algorithm's efficiency. Provide its time complexity and space complexity, and explain whether it is efficient for large graphs (e.g., n > 100)."
   ]
  },
  {
   "cell_type": "markdown",
   "metadata": {},
   "source": [
    "##### Time Complexity\n",
    "\n",
    "The core of the algorithm involves two main operations: constructing the graph and performing the layered search. \n",
    "\n",
    "First, the graph is represented as an adjacency list. The construction of this adjacency list takes **O(n)** time, where *n* is the number of flights (edges). This is because each flight in the input is added to the list of outgoing edges for the corresponding city, and this operation must be done once for each flight.\n",
    "\n",
    "The second part of the algorithm involves a layered search, where we explore the cities within a certain number of stops (up to *k* stops). The algorithm processes the cities layer by layer, iterating through the cities in the current layer and considering all possible flights from each city. At each step, it updates the costs for reaching neighboring cities, while keeping track of the number of stops taken. Since we may process every flight in the graph during each iteration, the time complexity of this part is **O(k * m)**, where *k* is the maximum number of stops allowed and *m* is the number of flights.\n",
    "\n",
    "In total, the time complexity is the sum of these two parts: **O(m + k * m)**. In the worst case, this simplifies to **O(k * m)**, since *k * m* dominates the construction of the graph. \n",
    "\n",
    "This means that as the graph grows in size, particularly as *m* (the number of flights) increases, the algorithm may become slower, especially when the number of allowed stops (*k*) is large. In dense graphs, where many cities are connected by flights, the time complexity could become a bottleneck. \n",
    "\n",
    "### Space Complexity\n",
    "\n",
    "The space complexity is determined by the structures used to represent the graph and store the intermediate results during the search.\n",
    "\n",
    "1. **Graph Representation**: The graph is stored as an adjacency list, where each city points to a list of its neighboring cities and the corresponding costs of the flights. This requires **O(m)** space, as there are *m* flights in the graph.\n",
    "\n",
    "2. **Current Layer and Next Layer**: For each stop, the algorithm maintains two dictionaries, *current_layer* and *next_layer*, which store the cities and their corresponding costs at that stop. In the worst case, these dictionaries will store all *n* cities, where *n* is the number of cities. Therefore, the space required for these layers is **O(n)**.\n",
    "\n",
    "3. **Min Costs Tracking**: Another dictionary, *min_costs*, is used to keep track of the minimum cost to reach each city. This dictionary also requires **O(n)** space.\n",
    "\n",
    "In total, the space complexity is **O(m + n)**, which accounts for the adjacency list and the various dictionaries used to track the cities and their costs.\n",
    "\n",
    "### Efficiency for Large Graphs\n",
    "\n",
    "The algorithm works well for graphs with a relatively small number of cities and flights, but it may not be efficient enough for large graphs, particularly when *n > 100* or *m > 1000*. This is because the time complexity grows linearly with the number of flights (*m*) and is further multiplied by the number of stops (*k*). In dense graphs, where the number of edges is proportional to *n^2*, this growth can be significant.\n",
    "\n",
    "For very large graphs, such as those with hundreds or thousands of cities and flights, the algorithm may struggle to perform efficiently. If *k* (the maximum number of stops) is large, the number of layers to explore increases, further exacerbating the time complexity. \n",
    "\n",
    "Additionally, for graphs with a high degree of connectivity (many flights between cities), the algorithm may have to process a large number of edges in each layer, leading to longer computation times. The overall time complexity of **O(k * m)** may be acceptable for smaller graphs, but as the graph size grows, this can become inefficient.\n",
    "\n",
    "### Possible Optimizations\n",
    "\n",
    "To improve performance for large graphs, several optimizations could be considered. One approach is to use **priority queues** (also known as min-heaps) instead of the layered search approach. This would allow the algorithm to always explore the cheapest possible route at each step, reducing the number of unnecessary calculations. The priority queue would allow us to efficiently retrieve the next cheapest city to explore, and the time complexity could be improved to **O(k * log n + m)**, where *log n* accounts for the time to pop the minimum element from the heap.\n",
    "\n",
    "Another potential optimization involves **early termination**. If the destination city is reached before all *k* stops are used, the algorithm could stop early and return the result, saving computation time.\n",
    "\n",
    "Finally, for particularly large and sparse graphs, **graph pruning** could be applied to remove less relevant edges or cities, reducing the size of the problem. This would make the search space smaller and the algorithm more efficient."
   ]
  },
  {
   "cell_type": "markdown",
   "metadata": {},
   "source": [
    "#### d) Optimize the algorithm to handle larger graphs. Provide an updated pseudocode and analyze the computational complexity of your optimization."
   ]
  },
  {
   "cell_type": "markdown",
   "metadata": {},
   "source": [
    "I apologize for the confusion. Let's take a fresh approach and come up with a completely new optimized algorithm. The main goal of optimization here is to ensure the solution works efficiently with large graphs while adhering to the constraints of having at most `k` stops.\n",
    "\n",
    "### Optimized Approach\n",
    "\n",
    "To optimize the solution, we can apply a strategy inspired by **Dijkstra’s Algorithm** but with some modifications to account for the maximum number of stops allowed. Rather than simply iterating over all paths in layers, we will prioritize the paths with the least cost while enforcing the constraint of `k` stops.\n",
    "\n",
    "### Key Optimizations:\n",
    "\n",
    "1. **Use of a Min-Heap (Priority Queue):** This ensures that at each iteration, we are always expanding the cheapest route first.\n",
    "2. **State Tracking with Stops and Costs:** We track both the current number of stops and the accumulated cost for each city, ensuring we do not explore unnecessary paths with more stops than allowed.\n",
    "3. **Early Stopping and Pruning:** If we reach the destination, we return immediately. Also, we discard paths that exceed the allowed number of stops or that are not cost-effective compared to already discovered paths.\n",
    "\n",
    "### New Algorithm Explanation\n",
    "\n",
    "1. We will use a **min-heap** to store the current city, the cost to reach it, and the number of stops taken so far. This ensures that at each step, we process the least-cost path first.\n",
    "2. **Cost updates** will only happen if a cheaper path is found to a city with the current number of stops or fewer.\n",
    "3. We stop processing further once we reach the destination with the least cost or exhaust all valid paths.\n",
    "\n",
    "### Updated Pseudocode\n",
    "\n",
    "```plaintext\n",
    "function cheapest_flight_with_stops(n, flights, src, dst, k):\n",
    "    # Step 1: Create adjacency list to represent the graph\n",
    "    city_connections = {i: [] for i in range(n)}\n",
    "    for start, end, cost in flights:\n",
    "        city_connections[start].append((end, cost))\n",
    "\n",
    "    # Step 2: Min-Heap to store (current_cost, current_city, current_stops)\n",
    "    min_heap = [(0, src, 0)]  # Starting at src with 0 cost and 0 stops\n",
    "    \n",
    "    # Step 3: Cost table to track the minimum cost with at most `k` stops\n",
    "    min_cost = {i: [float('inf')] * (k + 1) for i in range(n)}\n",
    "    min_cost[src][0] = 0\n",
    "    \n",
    "    # Step 4: Process cities from the priority queue\n",
    "    while min_heap:\n",
    "        current_cost, current_city, current_stops = heappop(min_heap)\n",
    "\n",
    "        # Step 5: If we reached the destination, return the current cost\n",
    "        if current_city == dst:\n",
    "            return current_cost\n",
    "\n",
    "        # Step 6: Skip if current stops exceed k\n",
    "        if current_stops > k:\n",
    "            continue\n",
    "\n",
    "        # Step 7: Explore neighbors (cities reachable via flights)\n",
    "        for neighbor, price in city_connections[current_city]:\n",
    "            new_cost = current_cost + price\n",
    "\n",
    "            # Step 8: Only consider this new path if it's cheaper or we have fewer stops\n",
    "            if new_cost < min_cost[neighbor][current_stops + 1]:\n",
    "                min_cost[neighbor][current_stops + 1] = new_cost\n",
    "                heappush(min_heap, (new_cost, neighbor, current_stops + 1))\n",
    "\n",
    "    # Step 9: If no path is found, return -1\n",
    "    return -1\n",
    "```\n",
    "\n",
    "### Key Steps Breakdown:\n",
    "\n",
    "1. **Graph Representation:** We create an adjacency list for efficient lookup of all possible outgoing flights from each city.\n",
    "2. **Min-Heap for Priority Processing:** The heap ensures that we always process the least-cost path first, maintaining the optimality of the search.\n",
    "3. **Cost Table:** We use a table `min_cost[city][stops]` to store the minimum cost to reach each city with at most `stops` stops. This avoids revisiting cities with more expensive paths.\n",
    "4. **Exploration:** For each city and each valid path (i.e., paths with stops <= `k`), we check if the new path is cheaper than any previously found path to that city with fewer or the same number of stops. If so, we add the path to the heap for further exploration.\n",
    "\n",
    "### Time Complexity Analysis\n",
    "\n",
    "Let’s analyze the time complexity:\n",
    "\n",
    "1. **Graph Construction:** Constructing the adjacency list from the `flights` input takes **O(m)** time, where `m` is the number of edges (flights).\n",
    "2. **Min-Heap Operations:** We perform heap operations (push and pop) for each city and stop. Since each city can be visited multiple times (one per stop), we perform **O(k * m)** operations in the worst case, where `k` is the maximum number of stops and `m` is the number of flights.\n",
    "   - Each heap operation (push and pop) takes **O(log n)**, where `n` is the number of cities.\n",
    "   - Therefore, the total complexity for heap operations is **O(k * m * log n)**.\n",
    "   \n",
    "3. **Overall Time Complexity:** The total time complexity is **O(k * m * log n)**, which is efficient for large graphs where `n` and `m` can be large.\n",
    "\n",
    "### Space Complexity Analysis\n",
    "\n",
    "1. **Graph Representation:** The adjacency list requires **O(m)** space to store all the flights.\n",
    "2. **Min-Heap:** The heap stores at most **O(k * n)** entries because each city may be visited with multiple stops, up to `k` stops.\n",
    "3. **Cost Table:** The `min_cost` table has **O(n * (k + 1))** entries, as it tracks the cost for each city and each possible number of stops.\n",
    "\n",
    "Thus, the total space complexity is **O(m + n * (k + 1))**."
   ]
  }
 ],
 "metadata": {
  "kernelspec": {
   "display_name": "Python 3",
   "language": "python",
   "name": "python3"
  },
  "language_info": {
   "codemirror_mode": {
    "name": "ipython",
    "version": 3
   },
   "file_extension": ".py",
   "mimetype": "text/x-python",
   "name": "python",
   "nbconvert_exporter": "python",
   "pygments_lexer": "ipython3",
   "version": "3.11.3"
  }
 },
 "nbformat": 4,
 "nbformat_minor": 2
}
